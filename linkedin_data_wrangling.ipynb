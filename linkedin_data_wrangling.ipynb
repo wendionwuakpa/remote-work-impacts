{
 "cells": [
  {
   "cell_type": "code",
   "execution_count": 1,
   "id": "a0f0b1b2",
   "metadata": {},
   "outputs": [],
   "source": [
    "import pandas as pd \n",
    "import numpy as np\n",
    "import matplotlib.pyplot as plt\n",
    "import seaborn as sns\n",
    "import re"
   ]
  },
  {
   "cell_type": "markdown",
   "id": "0cc4073b",
   "metadata": {},
   "source": [
    "### Goals \n",
    "- Wrangle the Linkedin data from Kaggle\n",
    "- Visualize cool findings"
   ]
  },
  {
   "cell_type": "code",
   "execution_count": 2,
   "id": "7c6dde2f",
   "metadata": {},
   "outputs": [],
   "source": [
    "df = pd.read_csv('linkedin_data.csv')"
   ]
  },
  {
   "cell_type": "code",
   "execution_count": 3,
   "id": "e67820f9",
   "metadata": {},
   "outputs": [
    {
     "data": {
      "text/html": [
       "<div>\n",
       "<style scoped>\n",
       "    .dataframe tbody tr th:only-of-type {\n",
       "        vertical-align: middle;\n",
       "    }\n",
       "\n",
       "    .dataframe tbody tr th {\n",
       "        vertical-align: top;\n",
       "    }\n",
       "\n",
       "    .dataframe thead th {\n",
       "        text-align: right;\n",
       "    }\n",
       "</style>\n",
       "<table border=\"1\" class=\"dataframe\">\n",
       "  <thead>\n",
       "    <tr style=\"text-align: right;\">\n",
       "      <th></th>\n",
       "      <th>job_ID</th>\n",
       "      <th>company_id</th>\n",
       "      <th>Column1</th>\n",
       "    </tr>\n",
       "  </thead>\n",
       "  <tbody>\n",
       "    <tr>\n",
       "      <th>count</th>\n",
       "      <td>7.927000e+03</td>\n",
       "      <td>0.0</td>\n",
       "      <td>0.0</td>\n",
       "    </tr>\n",
       "    <tr>\n",
       "      <th>mean</th>\n",
       "      <td>3.466724e+09</td>\n",
       "      <td>NaN</td>\n",
       "      <td>NaN</td>\n",
       "    </tr>\n",
       "    <tr>\n",
       "      <th>std</th>\n",
       "      <td>5.778011e+07</td>\n",
       "      <td>NaN</td>\n",
       "      <td>NaN</td>\n",
       "    </tr>\n",
       "    <tr>\n",
       "      <th>min</th>\n",
       "      <td>1.419216e+08</td>\n",
       "      <td>NaN</td>\n",
       "      <td>NaN</td>\n",
       "    </tr>\n",
       "    <tr>\n",
       "      <th>25%</th>\n",
       "      <td>3.467367e+09</td>\n",
       "      <td>NaN</td>\n",
       "      <td>NaN</td>\n",
       "    </tr>\n",
       "    <tr>\n",
       "      <th>50%</th>\n",
       "      <td>3.471882e+09</td>\n",
       "      <td>NaN</td>\n",
       "      <td>NaN</td>\n",
       "    </tr>\n",
       "    <tr>\n",
       "      <th>75%</th>\n",
       "      <td>3.476181e+09</td>\n",
       "      <td>NaN</td>\n",
       "      <td>NaN</td>\n",
       "    </tr>\n",
       "    <tr>\n",
       "      <th>max</th>\n",
       "      <td>3.477823e+09</td>\n",
       "      <td>NaN</td>\n",
       "      <td>NaN</td>\n",
       "    </tr>\n",
       "  </tbody>\n",
       "</table>\n",
       "</div>"
      ],
      "text/plain": [
       "             job_ID  company_id  Column1\n",
       "count  7.927000e+03         0.0      0.0\n",
       "mean   3.466724e+09         NaN      NaN\n",
       "std    5.778011e+07         NaN      NaN\n",
       "min    1.419216e+08         NaN      NaN\n",
       "25%    3.467367e+09         NaN      NaN\n",
       "50%    3.471882e+09         NaN      NaN\n",
       "75%    3.476181e+09         NaN      NaN\n",
       "max    3.477823e+09         NaN      NaN"
      ]
     },
     "execution_count": 3,
     "metadata": {},
     "output_type": "execute_result"
    }
   ],
   "source": [
    "df.describe()"
   ]
  },
  {
   "cell_type": "code",
   "execution_count": 4,
   "id": "9cf5fa3a",
   "metadata": {},
   "outputs": [
    {
     "name": "stdout",
     "output_type": "stream",
     "text": [
      "<class 'pandas.core.frame.DataFrame'>\n",
      "RangeIndex: 7927 entries, 0 to 7926\n",
      "Data columns (total 16 columns):\n",
      " #   Column              Non-Null Count  Dtype  \n",
      "---  ------              --------------  -----  \n",
      " 0   job_ID              7927 non-null   int64  \n",
      " 1   job                 7894 non-null   object \n",
      " 2   location            7894 non-null   object \n",
      " 3   company_id          0 non-null      float64\n",
      " 4   company_name        7892 non-null   object \n",
      " 5   work_type           7736 non-null   object \n",
      " 6   full_time_remote    7848 non-null   object \n",
      " 7   no_of_employ        7603 non-null   object \n",
      " 8   no_of_application   7887 non-null   object \n",
      " 9   posted_day_ago      7920 non-null   object \n",
      " 10  alumni              4858 non-null   object \n",
      " 11  Hiring_person       5720 non-null   object \n",
      " 12  linkedin_followers  4814 non-null   object \n",
      " 13  hiring_person_link  5720 non-null   object \n",
      " 14  job_details         7881 non-null   object \n",
      " 15  Column1             0 non-null      float64\n",
      "dtypes: float64(2), int64(1), object(13)\n",
      "memory usage: 991.0+ KB\n"
     ]
    }
   ],
   "source": [
    "df.info()"
   ]
  },
  {
   "cell_type": "code",
   "execution_count": 5,
   "id": "ac11614e",
   "metadata": {},
   "outputs": [
    {
     "data": {
      "text/plain": [
       "job_ID                   0\n",
       "job                     33\n",
       "location                33\n",
       "company_id            7927\n",
       "company_name            35\n",
       "work_type              191\n",
       "full_time_remote        79\n",
       "no_of_employ           324\n",
       "no_of_application       40\n",
       "posted_day_ago           7\n",
       "alumni                3069\n",
       "Hiring_person         2207\n",
       "linkedin_followers    3113\n",
       "hiring_person_link    2207\n",
       "job_details             46\n",
       "Column1               7927\n",
       "dtype: int64"
      ]
     },
     "execution_count": 5,
     "metadata": {},
     "output_type": "execute_result"
    }
   ],
   "source": [
    "df.isna().sum()"
   ]
  },
  {
   "cell_type": "markdown",
   "id": "2916b8ef",
   "metadata": {},
   "source": [
    "## Data Cleaning Steps \n",
    "- Drop columns that do not provide extra context to the data set\n",
    "- Make a Salary column from the job column \n",
    "- Make a city, state and country column from the location\n",
    "- Industry column from the no_of_employ\n",
    "- Catgeorize the no_of_employ to be (1 - 10, 11 - 100, 101 - 1000, 1000 - 5000, 5000+) categories"
   ]
  },
  {
   "cell_type": "code",
   "execution_count": 6,
   "id": "93a506d0",
   "metadata": {},
   "outputs": [],
   "source": [
    "df[['city', 'state', 'country']] = df['location'].str.split(',', expand=True) "
   ]
  },
  {
   "cell_type": "code",
   "execution_count": 7,
   "id": "9f8cab42",
   "metadata": {},
   "outputs": [],
   "source": [
    "def extract_employee_range(text): \n",
    "    if pd.isna(text): \n",
    "        return np.nan, np.nan\n",
    "    parts = text.split('·')\n",
    "    employees = parts[0].replace(',', '').split('-')\n",
    "    # Does not have a range\n",
    "    if len(employees) == 1: \n",
    "        if '+' in employees[0]:\n",
    "            return (5001, '5000+')\n",
    "        return (int(employees[0]), employees[0])\n",
    "    else: \n",
    "        if 'employees' in employees[1]:\n",
    "            employees[1] = employees[1].replace(' employees', '')\n",
    "        return (int(employees[0]), employees[1])\n",
    "    \n",
    "def categorize_employees(empl_range): \n",
    "    if pd.isna(empl_range): \n",
    "        return 'Unknown'\n",
    "    min_empl = int(empl_range) \n",
    "    if empl_range == 0: \n",
    "        return 'Unknown'                                           \n",
    "    if min_empl < 11:\n",
    "        return '1-10'\n",
    "    elif min_empl < 101:\n",
    "        return '11-100'\n",
    "    elif min_empl < 1001:\n",
    "        return '101-1000'\n",
    "    elif min_empl < 5001:\n",
    "        return '1001-5000'\n",
    "    else:\n",
    "        return '5000+'"
   ]
  },
  {
   "cell_type": "code",
   "execution_count": 8,
   "id": "31ffa562",
   "metadata": {},
   "outputs": [
    {
     "data": {
      "text/html": [
       "<div>\n",
       "<style scoped>\n",
       "    .dataframe tbody tr th:only-of-type {\n",
       "        vertical-align: middle;\n",
       "    }\n",
       "\n",
       "    .dataframe tbody tr th {\n",
       "        vertical-align: top;\n",
       "    }\n",
       "\n",
       "    .dataframe thead th {\n",
       "        text-align: right;\n",
       "    }\n",
       "</style>\n",
       "<table border=\"1\" class=\"dataframe\">\n",
       "  <thead>\n",
       "    <tr style=\"text-align: right;\">\n",
       "      <th></th>\n",
       "      <th>no_of_employ</th>\n",
       "      <th>industry</th>\n",
       "      <th>employee_bucket</th>\n",
       "    </tr>\n",
       "  </thead>\n",
       "  <tbody>\n",
       "    <tr>\n",
       "      <th>0</th>\n",
       "      <td>1,001-5,000 employees · IT Services and IT Con...</td>\n",
       "      <td>IT Services and IT Consulting</td>\n",
       "      <td>1001-5000</td>\n",
       "    </tr>\n",
       "    <tr>\n",
       "      <th>1</th>\n",
       "      <td>1,001-5,000 employees · IT Services and IT Con...</td>\n",
       "      <td>IT Services and IT Consulting</td>\n",
       "      <td>1001-5000</td>\n",
       "    </tr>\n",
       "    <tr>\n",
       "      <th>2</th>\n",
       "      <td>1,001-5,000 employees · IT Services and IT Con...</td>\n",
       "      <td>IT Services and IT Consulting</td>\n",
       "      <td>1001-5000</td>\n",
       "    </tr>\n",
       "    <tr>\n",
       "      <th>3</th>\n",
       "      <td>1-10 employees</td>\n",
       "      <td>Unknown</td>\n",
       "      <td>1-10</td>\n",
       "    </tr>\n",
       "    <tr>\n",
       "      <th>4</th>\n",
       "      <td>1-10 employees</td>\n",
       "      <td>Unknown</td>\n",
       "      <td>1-10</td>\n",
       "    </tr>\n",
       "    <tr>\n",
       "      <th>...</th>\n",
       "      <td>...</td>\n",
       "      <td>...</td>\n",
       "      <td>...</td>\n",
       "    </tr>\n",
       "    <tr>\n",
       "      <th>7922</th>\n",
       "      <td>5,001-10,000 employees · IT Services and IT Co...</td>\n",
       "      <td>IT Services and IT Consulting</td>\n",
       "      <td>5000+</td>\n",
       "    </tr>\n",
       "    <tr>\n",
       "      <th>7923</th>\n",
       "      <td>1,001-5,000 employees · IT Services and IT Con...</td>\n",
       "      <td>IT Services and IT Consulting</td>\n",
       "      <td>1001-5000</td>\n",
       "    </tr>\n",
       "    <tr>\n",
       "      <th>7924</th>\n",
       "      <td>10,001+ employees · IT Services and IT Consulting</td>\n",
       "      <td>IT Services and IT Consulting</td>\n",
       "      <td>5000+</td>\n",
       "    </tr>\n",
       "    <tr>\n",
       "      <th>7925</th>\n",
       "      <td>1,001-5,000 employees · IT Services and IT Con...</td>\n",
       "      <td>IT Services and IT Consulting</td>\n",
       "      <td>1001-5000</td>\n",
       "    </tr>\n",
       "    <tr>\n",
       "      <th>7926</th>\n",
       "      <td>10,001+ employees · IT Services and IT Consulting</td>\n",
       "      <td>IT Services and IT Consulting</td>\n",
       "      <td>5000+</td>\n",
       "    </tr>\n",
       "  </tbody>\n",
       "</table>\n",
       "<p>7927 rows × 3 columns</p>\n",
       "</div>"
      ],
      "text/plain": [
       "                                           no_of_employ  \\\n",
       "0     1,001-5,000 employees · IT Services and IT Con...   \n",
       "1     1,001-5,000 employees · IT Services and IT Con...   \n",
       "2     1,001-5,000 employees · IT Services and IT Con...   \n",
       "3                                        1-10 employees   \n",
       "4                                        1-10 employees   \n",
       "...                                                 ...   \n",
       "7922  5,001-10,000 employees · IT Services and IT Co...   \n",
       "7923  1,001-5,000 employees · IT Services and IT Con...   \n",
       "7924  10,001+ employees · IT Services and IT Consulting   \n",
       "7925  1,001-5,000 employees · IT Services and IT Con...   \n",
       "7926  10,001+ employees · IT Services and IT Consulting   \n",
       "\n",
       "                           industry employee_bucket  \n",
       "0     IT Services and IT Consulting       1001-5000  \n",
       "1     IT Services and IT Consulting       1001-5000  \n",
       "2     IT Services and IT Consulting       1001-5000  \n",
       "3                           Unknown            1-10  \n",
       "4                           Unknown            1-10  \n",
       "...                             ...             ...  \n",
       "7922  IT Services and IT Consulting           5000+  \n",
       "7923  IT Services and IT Consulting       1001-5000  \n",
       "7924  IT Services and IT Consulting           5000+  \n",
       "7925  IT Services and IT Consulting       1001-5000  \n",
       "7926  IT Services and IT Consulting           5000+  \n",
       "\n",
       "[7927 rows x 3 columns]"
      ]
     },
     "execution_count": 8,
     "metadata": {},
     "output_type": "execute_result"
    }
   ],
   "source": [
    "# Apply functions \n",
    "df['range'], df['employee_count'] = zip(*df['no_of_employ'].apply(extract_employee_range))\n",
    "df['range'] = pd.to_numeric(df['range'], errors = 'coerce').fillna(0).astype('int')\n",
    "df['employee_bucket'] = df['range'].apply(categorize_employees)\n",
    "df['industry'] = df['no_of_employ'].str.split(' · ').str.get(1).fillna('Unknown')\n",
    "\n",
    "# Show the resulting DataFrame\n",
    "df[['no_of_employ', 'industry', 'employee_bucket']]"
   ]
  },
  {
   "cell_type": "code",
   "execution_count": null,
   "id": "30f01897",
   "metadata": {},
   "outputs": [],
   "source": []
  },
  {
   "cell_type": "code",
   "execution_count": 9,
   "id": "2951aaa0",
   "metadata": {},
   "outputs": [],
   "source": [
    "# Clean 'full_time_remote' column\n",
    "df[['work_schedule', 'work_level']] = df['full_time_remote'].str.split('·', expand=True)  # Split work schedule and work level into separate columns\n",
    "df.drop('full_time_remote', axis=1, inplace=True)  # Drop original 'full_time_remote' column"
   ]
  },
  {
   "cell_type": "code",
   "execution_count": 10,
   "id": "b3d23709",
   "metadata": {},
   "outputs": [
    {
     "data": {
      "text/html": [
       "<div>\n",
       "<style scoped>\n",
       "    .dataframe tbody tr th:only-of-type {\n",
       "        vertical-align: middle;\n",
       "    }\n",
       "\n",
       "    .dataframe tbody tr th {\n",
       "        vertical-align: top;\n",
       "    }\n",
       "\n",
       "    .dataframe thead th {\n",
       "        text-align: right;\n",
       "    }\n",
       "</style>\n",
       "<table border=\"1\" class=\"dataframe\">\n",
       "  <thead>\n",
       "    <tr style=\"text-align: right;\">\n",
       "      <th></th>\n",
       "      <th>job_ID</th>\n",
       "      <th>job</th>\n",
       "      <th>location</th>\n",
       "      <th>company_id</th>\n",
       "      <th>company_name</th>\n",
       "      <th>work_type</th>\n",
       "      <th>no_of_employ</th>\n",
       "      <th>no_of_application</th>\n",
       "      <th>posted_day_ago</th>\n",
       "      <th>alumni</th>\n",
       "      <th>...</th>\n",
       "      <th>Column1</th>\n",
       "      <th>city</th>\n",
       "      <th>state</th>\n",
       "      <th>country</th>\n",
       "      <th>range</th>\n",
       "      <th>employee_count</th>\n",
       "      <th>employee_bucket</th>\n",
       "      <th>industry</th>\n",
       "      <th>work_schedule</th>\n",
       "      <th>work_level</th>\n",
       "    </tr>\n",
       "  </thead>\n",
       "  <tbody>\n",
       "    <tr>\n",
       "      <th>0</th>\n",
       "      <td>3471657636</td>\n",
       "      <td>Data Analyst, Trilogy (Remote) - $60,000/year USD</td>\n",
       "      <td>Delhi, Delhi, India</td>\n",
       "      <td>NaN</td>\n",
       "      <td>Crossover</td>\n",
       "      <td>Remote</td>\n",
       "      <td>1,001-5,000 employees · IT Services and IT Con...</td>\n",
       "      <td>200</td>\n",
       "      <td>8 hours</td>\n",
       "      <td>12 company alumni</td>\n",
       "      <td>...</td>\n",
       "      <td>NaN</td>\n",
       "      <td>Delhi</td>\n",
       "      <td>Delhi</td>\n",
       "      <td>India</td>\n",
       "      <td>1001</td>\n",
       "      <td>5000</td>\n",
       "      <td>1001-5000</td>\n",
       "      <td>IT Services and IT Consulting</td>\n",
       "      <td>Full-time</td>\n",
       "      <td>Associate</td>\n",
       "    </tr>\n",
       "    <tr>\n",
       "      <th>1</th>\n",
       "      <td>3471669068</td>\n",
       "      <td>Data Analyst, Trilogy (Remote) - $60,000/year USD</td>\n",
       "      <td>New Delhi, Delhi, India</td>\n",
       "      <td>NaN</td>\n",
       "      <td>Crossover</td>\n",
       "      <td>Remote</td>\n",
       "      <td>1,001-5,000 employees · IT Services and IT Con...</td>\n",
       "      <td>184</td>\n",
       "      <td>8 hours</td>\n",
       "      <td>12 company alumni</td>\n",
       "      <td>...</td>\n",
       "      <td>NaN</td>\n",
       "      <td>New Delhi</td>\n",
       "      <td>Delhi</td>\n",
       "      <td>India</td>\n",
       "      <td>1001</td>\n",
       "      <td>5000</td>\n",
       "      <td>1001-5000</td>\n",
       "      <td>IT Services and IT Consulting</td>\n",
       "      <td>Full-time</td>\n",
       "      <td>Associate</td>\n",
       "    </tr>\n",
       "    <tr>\n",
       "      <th>2</th>\n",
       "      <td>3474349934</td>\n",
       "      <td>Data Analyst - WFH</td>\n",
       "      <td>Greater Bengaluru Area</td>\n",
       "      <td>NaN</td>\n",
       "      <td>Uplers</td>\n",
       "      <td>Remote</td>\n",
       "      <td>1,001-5,000 employees · IT Services and IT Con...</td>\n",
       "      <td>200</td>\n",
       "      <td>9 hours</td>\n",
       "      <td>3 company alumni</td>\n",
       "      <td>...</td>\n",
       "      <td>NaN</td>\n",
       "      <td>Greater Bengaluru Area</td>\n",
       "      <td>None</td>\n",
       "      <td>None</td>\n",
       "      <td>1001</td>\n",
       "      <td>5000</td>\n",
       "      <td>1001-5000</td>\n",
       "      <td>IT Services and IT Consulting</td>\n",
       "      <td>Full-time</td>\n",
       "      <td>Mid-Senior level</td>\n",
       "    </tr>\n",
       "    <tr>\n",
       "      <th>3</th>\n",
       "      <td>3472816027</td>\n",
       "      <td>Data Analyst</td>\n",
       "      <td>Gurugram, Haryana, India</td>\n",
       "      <td>NaN</td>\n",
       "      <td>PVAR SERVICES</td>\n",
       "      <td>On-site</td>\n",
       "      <td>1-10 employees</td>\n",
       "      <td>200</td>\n",
       "      <td>7 hours</td>\n",
       "      <td>NaN</td>\n",
       "      <td>...</td>\n",
       "      <td>NaN</td>\n",
       "      <td>Gurugram</td>\n",
       "      <td>Haryana</td>\n",
       "      <td>India</td>\n",
       "      <td>1</td>\n",
       "      <td>10</td>\n",
       "      <td>1-10</td>\n",
       "      <td>Unknown</td>\n",
       "      <td>Full-time</td>\n",
       "      <td>None</td>\n",
       "    </tr>\n",
       "    <tr>\n",
       "      <th>4</th>\n",
       "      <td>3473311511</td>\n",
       "      <td>Data Analyst</td>\n",
       "      <td>Mohali district, Punjab, India</td>\n",
       "      <td>NaN</td>\n",
       "      <td>Timeline Freight Brokers</td>\n",
       "      <td>On-site</td>\n",
       "      <td>1-10 employees</td>\n",
       "      <td>8</td>\n",
       "      <td>26 minutes</td>\n",
       "      <td>1 company alumni</td>\n",
       "      <td>...</td>\n",
       "      <td>NaN</td>\n",
       "      <td>Mohali district</td>\n",
       "      <td>Punjab</td>\n",
       "      <td>India</td>\n",
       "      <td>1</td>\n",
       "      <td>10</td>\n",
       "      <td>1-10</td>\n",
       "      <td>Unknown</td>\n",
       "      <td>Full-time</td>\n",
       "      <td>None</td>\n",
       "    </tr>\n",
       "  </tbody>\n",
       "</table>\n",
       "<p>5 rows × 24 columns</p>\n",
       "</div>"
      ],
      "text/plain": [
       "       job_ID                                                job  \\\n",
       "0  3471657636  Data Analyst, Trilogy (Remote) - $60,000/year USD   \n",
       "1  3471669068  Data Analyst, Trilogy (Remote) - $60,000/year USD   \n",
       "2  3474349934                                 Data Analyst - WFH   \n",
       "3  3472816027                                       Data Analyst   \n",
       "4  3473311511                                       Data Analyst   \n",
       "\n",
       "                         location  company_id              company_name  \\\n",
       "0             Delhi, Delhi, India         NaN                 Crossover   \n",
       "1         New Delhi, Delhi, India         NaN                 Crossover   \n",
       "2          Greater Bengaluru Area         NaN                    Uplers   \n",
       "3        Gurugram, Haryana, India         NaN             PVAR SERVICES   \n",
       "4  Mohali district, Punjab, India         NaN  Timeline Freight Brokers   \n",
       "\n",
       "  work_type                                       no_of_employ  \\\n",
       "0    Remote  1,001-5,000 employees · IT Services and IT Con...   \n",
       "1    Remote  1,001-5,000 employees · IT Services and IT Con...   \n",
       "2    Remote  1,001-5,000 employees · IT Services and IT Con...   \n",
       "3   On-site                                     1-10 employees   \n",
       "4   On-site                                     1-10 employees   \n",
       "\n",
       "  no_of_application posted_day_ago             alumni  ... Column1  \\\n",
       "0               200        8 hours  12 company alumni  ...     NaN   \n",
       "1               184        8 hours  12 company alumni  ...     NaN   \n",
       "2               200        9 hours   3 company alumni  ...     NaN   \n",
       "3               200        7 hours                NaN  ...     NaN   \n",
       "4                 8     26 minutes   1 company alumni  ...     NaN   \n",
       "\n",
       "                     city     state country  range employee_count  \\\n",
       "0                   Delhi     Delhi   India   1001          5000    \n",
       "1               New Delhi     Delhi   India   1001          5000    \n",
       "2  Greater Bengaluru Area      None    None   1001          5000    \n",
       "3                Gurugram   Haryana   India      1             10   \n",
       "4         Mohali district    Punjab   India      1             10   \n",
       "\n",
       "  employee_bucket                       industry  work_schedule  \\\n",
       "0       1001-5000  IT Services and IT Consulting     Full-time    \n",
       "1       1001-5000  IT Services and IT Consulting     Full-time    \n",
       "2       1001-5000  IT Services and IT Consulting     Full-time    \n",
       "3            1-10                        Unknown      Full-time   \n",
       "4            1-10                        Unknown      Full-time   \n",
       "\n",
       "          work_level  \n",
       "0          Associate  \n",
       "1          Associate  \n",
       "2   Mid-Senior level  \n",
       "3               None  \n",
       "4               None  \n",
       "\n",
       "[5 rows x 24 columns]"
      ]
     },
     "execution_count": 10,
     "metadata": {},
     "output_type": "execute_result"
    }
   ],
   "source": [
    "df.head()"
   ]
  },
  {
   "cell_type": "code",
   "execution_count": null,
   "id": "5ab1e4e5",
   "metadata": {},
   "outputs": [],
   "source": []
  },
  {
   "cell_type": "code",
   "execution_count": 11,
   "id": "230b9cca",
   "metadata": {},
   "outputs": [],
   "source": [
    "# Remove duplicate entries\n",
    "df.drop_duplicates(keep='first', inplace=True)"
   ]
  },
  {
   "cell_type": "code",
   "execution_count": 12,
   "id": "26dee584",
   "metadata": {},
   "outputs": [],
   "source": [
    "# returns number from a text \n",
    "def get_number(string): \n",
    "    if pd.isnull(string): \n",
    "        return np.nan\n",
    "    else: \n",
    "        num = re.findall(r'[0-9]+', string)\n",
    "        return int(num[0]) if num else np.nan\n",
    "    \n",
    "# Clean 'no_of_application' column\n",
    "df['no_of_application'] = df['no_of_application'].apply(get_number) \n"
   ]
  },
  {
   "cell_type": "code",
   "execution_count": 13,
   "id": "3c71c93c",
   "metadata": {},
   "outputs": [
    {
     "data": {
      "text/plain": [
       "array(['5000 ', '10', '5000+', '200', '500', nan, '50', '1000 ', '5000',\n",
       "       '10000 ', '200 ', '1000', '50 ', '10 ', '500 ', '10000'],\n",
       "      dtype=object)"
      ]
     },
     "execution_count": 13,
     "metadata": {},
     "output_type": "execute_result"
    }
   ],
   "source": [
    "df['employee_count'].unique()"
   ]
  },
  {
   "cell_type": "code",
   "execution_count": 14,
   "id": "0b42d5d9",
   "metadata": {},
   "outputs": [],
   "source": [
    "# Strip text within parentheses\n",
    "df['job'] = df['job'].apply(lambda x: re.sub(r'\\(.*\\)', '', x) if pd.notnull(x) else np.nan)  \n",
    "\n",
    "def capitalize_str(string): \n",
    "    if pd.isnull(string): \n",
    "        return np.nan\n",
    "    else: \n",
    "        return string.strip().capitalize()\n",
    "    \n",
    "# Clean 'Job' column\n",
    "\n",
    "# Remove text within parentheses\n",
    "df['job'] = df['job'].apply(lambda x: re.sub(r'\\(.*\\)', '', x) if pd.notnull(x) else np.nan) \n",
    " # Remove yearly package info\n",
    "df['job'] = df['job'].apply(lambda x: re.sub(r'- \\$[0-9,]+/year USD', '', x) if pd.notnull(x) else np.nan)\n",
    " # Remove text after comma\n",
    "df['job'] = df['job'].apply(lambda x: re.sub(r',.*', '', x) if pd.notnull(x) else np.nan) \n",
    "df['job'] = df['job'].apply(capitalize_str)  # Standardize the text\n"
   ]
  },
  {
   "cell_type": "code",
   "execution_count": 15,
   "id": "46a7a27b",
   "metadata": {},
   "outputs": [],
   "source": [
    "df['company_name'] = df['company_name'].apply(capitalize_str)  # Standardize the text"
   ]
  },
  {
   "cell_type": "code",
   "execution_count": 16,
   "id": "08eca7ff",
   "metadata": {},
   "outputs": [],
   "source": [
    "df.drop(columns = ['location', 'country',\n",
    "                  'Column1', 'Hiring_person', 'linkedin_followers', 'company_id',\n",
    "                'alumni', 'hiring_person_link', 'job_details', 'posted_day_ago'] ,\n",
    "        inplace = True)"
   ]
  },
  {
   "cell_type": "markdown",
   "id": "1a708723",
   "metadata": {},
   "source": [
    "## Visualizations"
   ]
  },
  {
   "cell_type": "code",
   "execution_count": 17,
   "id": "acbd6750",
   "metadata": {},
   "outputs": [
    {
     "data": {
      "text/html": [
       "<div>\n",
       "<style scoped>\n",
       "    .dataframe tbody tr th:only-of-type {\n",
       "        vertical-align: middle;\n",
       "    }\n",
       "\n",
       "    .dataframe tbody tr th {\n",
       "        vertical-align: top;\n",
       "    }\n",
       "\n",
       "    .dataframe thead th {\n",
       "        text-align: right;\n",
       "    }\n",
       "</style>\n",
       "<table border=\"1\" class=\"dataframe\">\n",
       "  <thead>\n",
       "    <tr style=\"text-align: right;\">\n",
       "      <th></th>\n",
       "      <th>job_ID</th>\n",
       "      <th>job</th>\n",
       "      <th>company_name</th>\n",
       "      <th>work_type</th>\n",
       "      <th>no_of_employ</th>\n",
       "      <th>no_of_application</th>\n",
       "      <th>city</th>\n",
       "      <th>state</th>\n",
       "      <th>range</th>\n",
       "      <th>employee_count</th>\n",
       "      <th>employee_bucket</th>\n",
       "      <th>industry</th>\n",
       "      <th>work_schedule</th>\n",
       "      <th>work_level</th>\n",
       "    </tr>\n",
       "  </thead>\n",
       "  <tbody>\n",
       "    <tr>\n",
       "      <th>0</th>\n",
       "      <td>3471657636</td>\n",
       "      <td>Data analyst</td>\n",
       "      <td>Crossover</td>\n",
       "      <td>Remote</td>\n",
       "      <td>1,001-5,000 employees · IT Services and IT Con...</td>\n",
       "      <td>200.0</td>\n",
       "      <td>Delhi</td>\n",
       "      <td>Delhi</td>\n",
       "      <td>1001</td>\n",
       "      <td>5000</td>\n",
       "      <td>1001-5000</td>\n",
       "      <td>IT Services and IT Consulting</td>\n",
       "      <td>Full-time</td>\n",
       "      <td>Associate</td>\n",
       "    </tr>\n",
       "    <tr>\n",
       "      <th>1</th>\n",
       "      <td>3471669068</td>\n",
       "      <td>Data analyst</td>\n",
       "      <td>Crossover</td>\n",
       "      <td>Remote</td>\n",
       "      <td>1,001-5,000 employees · IT Services and IT Con...</td>\n",
       "      <td>184.0</td>\n",
       "      <td>New Delhi</td>\n",
       "      <td>Delhi</td>\n",
       "      <td>1001</td>\n",
       "      <td>5000</td>\n",
       "      <td>1001-5000</td>\n",
       "      <td>IT Services and IT Consulting</td>\n",
       "      <td>Full-time</td>\n",
       "      <td>Associate</td>\n",
       "    </tr>\n",
       "    <tr>\n",
       "      <th>2</th>\n",
       "      <td>3474349934</td>\n",
       "      <td>Data analyst - wfh</td>\n",
       "      <td>Uplers</td>\n",
       "      <td>Remote</td>\n",
       "      <td>1,001-5,000 employees · IT Services and IT Con...</td>\n",
       "      <td>200.0</td>\n",
       "      <td>Greater Bengaluru Area</td>\n",
       "      <td>None</td>\n",
       "      <td>1001</td>\n",
       "      <td>5000</td>\n",
       "      <td>1001-5000</td>\n",
       "      <td>IT Services and IT Consulting</td>\n",
       "      <td>Full-time</td>\n",
       "      <td>Mid-Senior level</td>\n",
       "    </tr>\n",
       "    <tr>\n",
       "      <th>3</th>\n",
       "      <td>3472816027</td>\n",
       "      <td>Data analyst</td>\n",
       "      <td>Pvar services</td>\n",
       "      <td>On-site</td>\n",
       "      <td>1-10 employees</td>\n",
       "      <td>200.0</td>\n",
       "      <td>Gurugram</td>\n",
       "      <td>Haryana</td>\n",
       "      <td>1</td>\n",
       "      <td>10</td>\n",
       "      <td>1-10</td>\n",
       "      <td>Unknown</td>\n",
       "      <td>Full-time</td>\n",
       "      <td>None</td>\n",
       "    </tr>\n",
       "    <tr>\n",
       "      <th>4</th>\n",
       "      <td>3473311511</td>\n",
       "      <td>Data analyst</td>\n",
       "      <td>Timeline freight brokers</td>\n",
       "      <td>On-site</td>\n",
       "      <td>1-10 employees</td>\n",
       "      <td>8.0</td>\n",
       "      <td>Mohali district</td>\n",
       "      <td>Punjab</td>\n",
       "      <td>1</td>\n",
       "      <td>10</td>\n",
       "      <td>1-10</td>\n",
       "      <td>Unknown</td>\n",
       "      <td>Full-time</td>\n",
       "      <td>None</td>\n",
       "    </tr>\n",
       "    <tr>\n",
       "      <th>...</th>\n",
       "      <td>...</td>\n",
       "      <td>...</td>\n",
       "      <td>...</td>\n",
       "      <td>...</td>\n",
       "      <td>...</td>\n",
       "      <td>...</td>\n",
       "      <td>...</td>\n",
       "      <td>...</td>\n",
       "      <td>...</td>\n",
       "      <td>...</td>\n",
       "      <td>...</td>\n",
       "      <td>...</td>\n",
       "      <td>...</td>\n",
       "      <td>...</td>\n",
       "    </tr>\n",
       "    <tr>\n",
       "      <th>7922</th>\n",
       "      <td>3472039871</td>\n",
       "      <td>Back end developer</td>\n",
       "      <td>Orion innovation</td>\n",
       "      <td>Hybrid</td>\n",
       "      <td>5,001-10,000 employees · IT Services and IT Co...</td>\n",
       "      <td>25.0</td>\n",
       "      <td>Kochi</td>\n",
       "      <td>Kerala</td>\n",
       "      <td>5001</td>\n",
       "      <td>10000</td>\n",
       "      <td>5000+</td>\n",
       "      <td>IT Services and IT Consulting</td>\n",
       "      <td>Full-time</td>\n",
       "      <td>Associate</td>\n",
       "    </tr>\n",
       "    <tr>\n",
       "      <th>7923</th>\n",
       "      <td>3473194471</td>\n",
       "      <td>Software engineer - senior</td>\n",
       "      <td>Uplers</td>\n",
       "      <td>On-site</td>\n",
       "      <td>1,001-5,000 employees · IT Services and IT Con...</td>\n",
       "      <td>18.0</td>\n",
       "      <td>Gurugram</td>\n",
       "      <td>Haryana</td>\n",
       "      <td>1001</td>\n",
       "      <td>5000</td>\n",
       "      <td>1001-5000</td>\n",
       "      <td>IT Services and IT Consulting</td>\n",
       "      <td>Full-time</td>\n",
       "      <td>Mid-Senior level</td>\n",
       "    </tr>\n",
       "    <tr>\n",
       "      <th>7924</th>\n",
       "      <td>3461005032</td>\n",
       "      <td>Vue js</td>\n",
       "      <td>Tata consultancy services</td>\n",
       "      <td>On-site</td>\n",
       "      <td>10,001+ employees · IT Services and IT Consulting</td>\n",
       "      <td>15.0</td>\n",
       "      <td>Hyderabad</td>\n",
       "      <td>Telangana</td>\n",
       "      <td>5001</td>\n",
       "      <td>5000+</td>\n",
       "      <td>5000+</td>\n",
       "      <td>IT Services and IT Consulting</td>\n",
       "      <td>Full-time</td>\n",
       "      <td>Mid-Senior level</td>\n",
       "    </tr>\n",
       "    <tr>\n",
       "      <th>7925</th>\n",
       "      <td>3474305684</td>\n",
       "      <td>Ios developer</td>\n",
       "      <td>Uplers</td>\n",
       "      <td>Remote</td>\n",
       "      <td>1,001-5,000 employees · IT Services and IT Con...</td>\n",
       "      <td>17.0</td>\n",
       "      <td>Bengaluru</td>\n",
       "      <td>Karnataka</td>\n",
       "      <td>1001</td>\n",
       "      <td>5000</td>\n",
       "      <td>1001-5000</td>\n",
       "      <td>IT Services and IT Consulting</td>\n",
       "      <td>Full-time</td>\n",
       "      <td>Mid-Senior level</td>\n",
       "    </tr>\n",
       "    <tr>\n",
       "      <th>7926</th>\n",
       "      <td>3459352801</td>\n",
       "      <td>Power train function developer</td>\n",
       "      <td>Akkodis</td>\n",
       "      <td>Hybrid</td>\n",
       "      <td>10,001+ employees · IT Services and IT Consulting</td>\n",
       "      <td>43.0</td>\n",
       "      <td>Bengaluru</td>\n",
       "      <td>Karnataka</td>\n",
       "      <td>5001</td>\n",
       "      <td>5000+</td>\n",
       "      <td>5000+</td>\n",
       "      <td>IT Services and IT Consulting</td>\n",
       "      <td>Full-time</td>\n",
       "      <td>Mid-Senior level</td>\n",
       "    </tr>\n",
       "  </tbody>\n",
       "</table>\n",
       "<p>7848 rows × 14 columns</p>\n",
       "</div>"
      ],
      "text/plain": [
       "          job_ID                             job               company_name  \\\n",
       "0     3471657636                    Data analyst                  Crossover   \n",
       "1     3471669068                    Data analyst                  Crossover   \n",
       "2     3474349934              Data analyst - wfh                     Uplers   \n",
       "3     3472816027                    Data analyst              Pvar services   \n",
       "4     3473311511                    Data analyst   Timeline freight brokers   \n",
       "...          ...                             ...                        ...   \n",
       "7922  3472039871              Back end developer           Orion innovation   \n",
       "7923  3473194471      Software engineer - senior                     Uplers   \n",
       "7924  3461005032                          Vue js  Tata consultancy services   \n",
       "7925  3474305684                   Ios developer                     Uplers   \n",
       "7926  3459352801  Power train function developer                    Akkodis   \n",
       "\n",
       "     work_type                                       no_of_employ  \\\n",
       "0       Remote  1,001-5,000 employees · IT Services and IT Con...   \n",
       "1       Remote  1,001-5,000 employees · IT Services and IT Con...   \n",
       "2       Remote  1,001-5,000 employees · IT Services and IT Con...   \n",
       "3      On-site                                     1-10 employees   \n",
       "4      On-site                                     1-10 employees   \n",
       "...        ...                                                ...   \n",
       "7922    Hybrid  5,001-10,000 employees · IT Services and IT Co...   \n",
       "7923   On-site  1,001-5,000 employees · IT Services and IT Con...   \n",
       "7924   On-site  10,001+ employees · IT Services and IT Consulting   \n",
       "7925    Remote  1,001-5,000 employees · IT Services and IT Con...   \n",
       "7926    Hybrid  10,001+ employees · IT Services and IT Consulting   \n",
       "\n",
       "      no_of_application                    city       state  range  \\\n",
       "0                 200.0                   Delhi       Delhi   1001   \n",
       "1                 184.0               New Delhi       Delhi   1001   \n",
       "2                 200.0  Greater Bengaluru Area        None   1001   \n",
       "3                 200.0                Gurugram     Haryana      1   \n",
       "4                   8.0         Mohali district      Punjab      1   \n",
       "...                 ...                     ...         ...    ...   \n",
       "7922               25.0                   Kochi      Kerala   5001   \n",
       "7923               18.0                Gurugram     Haryana   1001   \n",
       "7924               15.0               Hyderabad   Telangana   5001   \n",
       "7925               17.0               Bengaluru   Karnataka   1001   \n",
       "7926               43.0               Bengaluru   Karnataka   5001   \n",
       "\n",
       "     employee_count employee_bucket                       industry  \\\n",
       "0             5000        1001-5000  IT Services and IT Consulting   \n",
       "1             5000        1001-5000  IT Services and IT Consulting   \n",
       "2             5000        1001-5000  IT Services and IT Consulting   \n",
       "3                10            1-10                        Unknown   \n",
       "4                10            1-10                        Unknown   \n",
       "...             ...             ...                            ...   \n",
       "7922         10000            5000+  IT Services and IT Consulting   \n",
       "7923          5000        1001-5000  IT Services and IT Consulting   \n",
       "7924          5000+           5000+  IT Services and IT Consulting   \n",
       "7925          5000        1001-5000  IT Services and IT Consulting   \n",
       "7926          5000+           5000+  IT Services and IT Consulting   \n",
       "\n",
       "     work_schedule         work_level  \n",
       "0       Full-time           Associate  \n",
       "1       Full-time           Associate  \n",
       "2       Full-time    Mid-Senior level  \n",
       "3        Full-time               None  \n",
       "4        Full-time               None  \n",
       "...            ...                ...  \n",
       "7922    Full-time           Associate  \n",
       "7923    Full-time    Mid-Senior level  \n",
       "7924    Full-time    Mid-Senior level  \n",
       "7925    Full-time    Mid-Senior level  \n",
       "7926    Full-time    Mid-Senior level  \n",
       "\n",
       "[7848 rows x 14 columns]"
      ]
     },
     "execution_count": 17,
     "metadata": {},
     "output_type": "execute_result"
    }
   ],
   "source": [
    "df"
   ]
  },
  {
   "cell_type": "code",
   "execution_count": 18,
   "id": "a922161e",
   "metadata": {},
   "outputs": [],
   "source": [
    "df.to_csv('linkedin_final.csv')"
   ]
  },
  {
   "cell_type": "code",
   "execution_count": 19,
   "id": "f19601f3",
   "metadata": {},
   "outputs": [
    {
     "data": {
      "text/plain": [
       "On-site    3211\n",
       "Remote     2983\n",
       "Hybrid     1466\n",
       "Name: work_type, dtype: int64"
      ]
     },
     "execution_count": 19,
     "metadata": {},
     "output_type": "execute_result"
    }
   ],
   "source": [
    "df['work_type'].value_counts()"
   ]
  },
  {
   "cell_type": "code",
   "execution_count": 20,
   "id": "93571e0d",
   "metadata": {},
   "outputs": [
    {
     "data": {
      "text/plain": [
       "(7848, 14)"
      ]
     },
     "execution_count": 20,
     "metadata": {},
     "output_type": "execute_result"
    }
   ],
   "source": [
    "df.shape"
   ]
  },
  {
   "cell_type": "code",
   "execution_count": 21,
   "id": "d83ca1e9",
   "metadata": {},
   "outputs": [
    {
     "data": {
      "image/png": "[encoded data removed]",
      "text/plain": [
       "<Figure size 720x432 with 1 Axes>"
      ]
     },
     "metadata": {
      "needs_background": "light"
     },
     "output_type": "display_data"
    }
   ],
   "source": [
    "# Basic cleanup for visualization\n",
    "df['work_type'] = df['work_type'].str.strip()  # Removing any leading/trailing spaces\n",
    "\n",
    "# Plotting Work Type Preferences\n",
    "plt.figure(figsize=(10, 6))\n",
    "sns.countplot(x='work_type', data=df, palette='viridis')\n",
    "plt.title('Work Type Preferences of Linkedin Job Postings')\n",
    "plt.xlabel('Work Type')\n",
    "plt.ylabel('Number of Job Postings')\n",
    "plt.xticks(rotation=45)\n",
    "plt.tight_layout()\n",
    "plt.show()"
   ]
  },
  {
   "cell_type": "code",
   "execution_count": 22,
   "id": "da948629",
   "metadata": {},
   "outputs": [
    {
     "data": {
      "image/png": "[encoded data removed]",
      "text/plain": [
       "<Figure size 864x576 with 1 Axes>"
      ]
     },
     "metadata": {
      "needs_background": "light"
     },
     "output_type": "display_data"
    }
   ],
   "source": [
    "df['employee_bucket'] = pd.Categorical(df['employee_bucket'], categories=[\n",
    "    '1-10', '11-100', '101-1000', '1001-5000', '5000+'\n",
    "], ordered=True)\n",
    "\n",
    "\n",
    "plt.figure(figsize=(12, 8))\n",
    "sns.countplot(x='employee_bucket', hue='work_type', data=df, palette='coolwarm')\n",
    "plt.title('Distribution of Work Type Preferences by Company Size')\n",
    "plt.xlabel('Company Size')\n",
    "plt.ylabel('Number of Job Postings')\n",
    "plt.xticks(rotation=45)\n",
    "plt.legend(title='Work Type')\n",
    "plt.tight_layout()\n",
    "plt.show()\n"
   ]
  },
  {
   "cell_type": "code",
   "execution_count": null,
   "id": "3af7ab71",
   "metadata": {},
   "outputs": [],
   "source": []
  },
  {
   "cell_type": "code",
   "execution_count": 23,
   "id": "e7946c42",
   "metadata": {},
   "outputs": [
    {
     "data": {
      "text/plain": [
       "0.5051546391752577"
      ]
     },
     "execution_count": 23,
     "metadata": {},
     "output_type": "execute_result"
    }
   ],
   "source": []
  },
  {
   "cell_type": "code",
   "execution_count": 24,
   "id": "47caf90f",
   "metadata": {},
   "outputs": [
    {
     "data": {
      "text/html": [
       "<div>\n",
       "<style scoped>\n",
       "    .dataframe tbody tr th:only-of-type {\n",
       "        vertical-align: middle;\n",
       "    }\n",
       "\n",
       "    .dataframe tbody tr th {\n",
       "        vertical-align: top;\n",
       "    }\n",
       "\n",
       "    .dataframe thead th {\n",
       "        text-align: right;\n",
       "    }\n",
       "</style>\n",
       "<table border=\"1\" class=\"dataframe\">\n",
       "  <thead>\n",
       "    <tr style=\"text-align: right;\">\n",
       "      <th></th>\n",
       "      <th>job_ID</th>\n",
       "      <th>job</th>\n",
       "      <th>company_name</th>\n",
       "      <th>no_of_employ</th>\n",
       "      <th>no_of_application</th>\n",
       "      <th>city</th>\n",
       "      <th>state</th>\n",
       "      <th>range</th>\n",
       "      <th>employee_count</th>\n",
       "      <th>employee_bucket</th>\n",
       "      <th>industry</th>\n",
       "      <th>work_schedule</th>\n",
       "      <th>work_level</th>\n",
       "    </tr>\n",
       "    <tr>\n",
       "      <th>work_type</th>\n",
       "      <th></th>\n",
       "      <th></th>\n",
       "      <th></th>\n",
       "      <th></th>\n",
       "      <th></th>\n",
       "      <th></th>\n",
       "      <th></th>\n",
       "      <th></th>\n",
       "      <th></th>\n",
       "      <th></th>\n",
       "      <th></th>\n",
       "      <th></th>\n",
       "      <th></th>\n",
       "    </tr>\n",
       "  </thead>\n",
       "  <tbody>\n",
       "    <tr>\n",
       "      <th>Hybrid</th>\n",
       "      <td>45</td>\n",
       "      <td>45</td>\n",
       "      <td>45</td>\n",
       "      <td>45</td>\n",
       "      <td>23</td>\n",
       "      <td>45</td>\n",
       "      <td>41</td>\n",
       "      <td>45</td>\n",
       "      <td>45</td>\n",
       "      <td>45</td>\n",
       "      <td>45</td>\n",
       "      <td>45</td>\n",
       "      <td>45</td>\n",
       "    </tr>\n",
       "    <tr>\n",
       "      <th>On-site</th>\n",
       "      <td>98</td>\n",
       "      <td>98</td>\n",
       "      <td>98</td>\n",
       "      <td>97</td>\n",
       "      <td>48</td>\n",
       "      <td>98</td>\n",
       "      <td>92</td>\n",
       "      <td>98</td>\n",
       "      <td>97</td>\n",
       "      <td>97</td>\n",
       "      <td>98</td>\n",
       "      <td>98</td>\n",
       "      <td>98</td>\n",
       "    </tr>\n",
       "    <tr>\n",
       "      <th>Remote</th>\n",
       "      <td>51</td>\n",
       "      <td>51</td>\n",
       "      <td>51</td>\n",
       "      <td>51</td>\n",
       "      <td>30</td>\n",
       "      <td>51</td>\n",
       "      <td>16</td>\n",
       "      <td>51</td>\n",
       "      <td>51</td>\n",
       "      <td>51</td>\n",
       "      <td>51</td>\n",
       "      <td>51</td>\n",
       "      <td>51</td>\n",
       "    </tr>\n",
       "  </tbody>\n",
       "</table>\n",
       "</div>"
      ],
      "text/plain": [
       "           job_ID  job  company_name  no_of_employ  no_of_application  city  \\\n",
       "work_type                                                                     \n",
       "Hybrid         45   45            45            45                 23    45   \n",
       "On-site        98   98            98            97                 48    98   \n",
       "Remote         51   51            51            51                 30    51   \n",
       "\n",
       "           state  range  employee_count  employee_bucket  industry  \\\n",
       "work_type                                                            \n",
       "Hybrid        41     45              45               45        45   \n",
       "On-site       92     98              97               97        98   \n",
       "Remote        16     51              51               51        51   \n",
       "\n",
       "           work_schedule  work_level  \n",
       "work_type                             \n",
       "Hybrid                45          45  \n",
       "On-site               98          98  \n",
       "Remote                51          51  "
      ]
     },
     "execution_count": 24,
     "metadata": {},
     "output_type": "execute_result"
    }
   ],
   "source": [
    "df['work_type'] =df['work_type'].str.strip()  \n",
    "df['work_level'] = df['work_level'].str.strip()  \n",
    "dat = df[df['work_level'].isin(['Internship', 'Entry level', 'Associate'])]\n",
    "dat[dat['work_level'] == 'Entry level'].groupby('work_type').count()"
   ]
  },
  {
   "cell_type": "code",
   "execution_count": 25,
   "id": "674645b8",
   "metadata": {},
   "outputs": [
    {
     "data": {
      "image/png": "[encoded data removed]",
      "text/plain": [
       "<Figure size 720x576 with 1 Axes>"
      ]
     },
     "metadata": {
      "needs_background": "light"
     },
     "output_type": "display_data"
    }
   ],
   "source": [
    "plt.figure(figsize=(10, 8))\n",
    "sns.countplot(x='work_level', hue='work_type', data=df[df['work_level'].isin(['Internship', 'Entry level', 'Associate'])],palette='coolwarm')\n",
    "plt.title('Most Entry Level Work Hire On Site')\n",
    "plt.xlabel('Company Size')\n",
    "plt.ylabel('Number of Job Postings')\n",
    "plt.xticks(rotation=45)\n",
    "plt.legend(title='Work Type')\n",
    "plt.tight_layout()\n",
    "plt.show()\n"
   ]
  },
  {
   "cell_type": "code",
   "execution_count": 26,
   "id": "4332d8e6",
   "metadata": {},
   "outputs": [
    {
     "data": {
      "image/png": "[encoded data removed]",
      "text/plain": [
       "<Figure size 1008x576 with 1 Axes>"
      ]
     },
     "metadata": {
      "needs_background": "light"
     },
     "output_type": "display_data"
    }
   ],
   "source": [
    "# Dropping any missing values for better visualization\n",
    "df.dropna(subset=['work_type', 'work_level'], inplace=True)\n",
    "\n",
    "plt.figure(figsize=(14, 8))\n",
    "sns.countplot(x='work_level', hue='work_type', data=df, palette='coolwarm')\n",
    "plt.title('Distribution of Work Level by Work Type')\n",
    "plt.xlabel('Work Level')\n",
    "plt.ylabel('Number of Linkedin Job Postings')\n",
    "plt.legend(title='Work Type', bbox_to_anchor=(1.05, 1), loc='upper left')\n",
    "plt.xticks(rotation=45)\n",
    "plt.tight_layout()\n",
    "plt.show()"
   ]
  },
  {
   "cell_type": "code",
   "execution_count": null,
   "id": "71832997",
   "metadata": {},
   "outputs": [],
   "source": []
  },
  {
   "cell_type": "code",
   "execution_count": 27,
   "id": "50629179",
   "metadata": {},
   "outputs": [
    {
     "data": {
      "image/png": "[encoded data removed]",
      "text/plain": [
       "<Figure size 720x432 with 1 Axes>"
      ]
     },
     "metadata": {
      "needs_background": "light"
     },
     "output_type": "display_data"
    }
   ],
   "source": [
    "plt.figure(figsize=(10, 6))\n",
    "sns.barplot(x='work_type', y='no_of_application', data=df, estimator=sum, ci=None, palette='coolwarm')\n",
    "plt.title('Most Candidates Apply to On-site Job Postings')\n",
    "plt.xlabel('Work Type')\n",
    "plt.ylabel('Total Number of Applications')\n",
    "plt.xticks(rotation=0)\n",
    "plt.tight_layout()\n",
    "plt.show()"
   ]
  },
  {
   "cell_type": "code",
   "execution_count": 28,
   "id": "51a2c7de",
   "metadata": {},
   "outputs": [
    {
     "data": {
      "image/png": "[encoded data removed]",
      "text/plain": [
       "<Figure size 720x576 with 1 Axes>"
      ]
     },
     "metadata": {},
     "output_type": "display_data"
    },
    {
     "data": {
      "image/png": "[encoded data removed]",
      "text/plain": [
       "<Figure size 720x576 with 1 Axes>"
      ]
     },
     "metadata": {},
     "output_type": "display_data"
    },
    {
     "data": {
      "image/png": "[encoded data removed]",
      "text/plain": [
       "<Figure size 720x576 with 1 Axes>"
      ]
     },
     "metadata": {},
     "output_type": "display_data"
    }
   ],
   "source": [
    "# Calculate total applications by industry\n",
    "total_applications_by_industry = df.groupby('industry')['no_of_application'].sum()\n",
    "\n",
    "# Get the top 10 industries with the highest number of applications\n",
    "top_industries = total_applications_by_industry.nlargest(5).index\n",
    "\n",
    "# Filter the original data to include only these top 10 industries\n",
    "filtered_data = df[df['industry'].isin(top_industries)]\n",
    "\n",
    "# Group filtered data by 'work_type' and 'industry' and calculate the total 'no_of_application'\n",
    "grouped_data = filtered_data.groupby(['work_type', 'industry'])['no_of_application'].sum().unstack(fill_value=0)\n",
    "\n",
    "# Plotting one pie chart for each work type\n",
    "for work_type, values in grouped_data.iterrows():\n",
    "    plt.figure(figsize=(10, 8))\n",
    "    values.plot.pie(autopct='%1.0f%%', startangle=190, counterclock=False, title=f'Pie Chart for {work_type}')\n",
    "    plt.ylabel('')  # Remove the y-label as it's unnecessary\n",
    "    plt.show()\n"
   ]
  },
  {
   "cell_type": "code",
   "execution_count": 29,
   "id": "a6f1acc1",
   "metadata": {},
   "outputs": [
    {
     "data": {
      "text/plain": [
       "Index(['job_ID', 'job', 'company_name', 'work_type', 'no_of_employ',\n",
       "       'no_of_application', 'city', 'state', 'range', 'employee_count',\n",
       "       'employee_bucket', 'industry', 'work_schedule', 'work_level'],\n",
       "      dtype='object')"
      ]
     },
     "execution_count": 29,
     "metadata": {},
     "output_type": "execute_result"
    }
   ],
   "source": [
    "df.columns"
   ]
  },
  {
   "cell_type": "code",
   "execution_count": 30,
   "id": "137251ac",
   "metadata": {},
   "outputs": [],
   "source": [
    "salaries = pd.read_csv('salaries.csv')"
   ]
  },
  {
   "cell_type": "code",
   "execution_count": 31,
   "id": "90e48f80",
   "metadata": {},
   "outputs": [],
   "source": [
    "salaries = salaries[['salary', 'job_title', 'salary_currency', 'company_size']]"
   ]
  },
  {
   "cell_type": "markdown",
   "id": "8444bd36",
   "metadata": {},
   "source": [
    "## Enrichment with Matching Algorithm \n",
    "\n",
    "Our original data set has linkedin job postings without any salary or compensation element. We enriched this with another open source data set that had the needed information"
   ]
  },
  {
   "cell_type": "code",
   "execution_count": null,
   "id": "8499432a",
   "metadata": {},
   "outputs": [],
   "source": []
  },
  {
   "cell_type": "code",
   "execution_count": 32,
   "id": "8bdea26d",
   "metadata": {},
   "outputs": [],
   "source": [
    "from collections import Counter\n",
    "\n",
    "def match_titles(linkedin_title, salary_titles):\n",
    "    \"\"\"\n",
    "    Match job titles from LinkedIn data to the closest title from Salary data based on\n",
    "    the condition that at least two words match between titles.\n",
    "    \"\"\"\n",
    "    linkedin_words = set(linkedin_title.lower().split())\n",
    "    best_match = None\n",
    "    max_common = 1  # Start with 1 to ensure at least two words match\n",
    "\n",
    "    for title in salary_titles:\n",
    "        title_words = set(title.lower().split())\n",
    "        common_words = len(linkedin_words & title_words)\n",
    "        if common_words > max_common:\n",
    "            max_common = common_words\n",
    "            best_match = title\n",
    "\n",
    "    return best_match if max_common >= 2 else None\n",
    "\n",
    "# Create a set of unique job titles from the salary data for efficient searching\n",
    "salary_titles = set(salaries['job_title'])\n",
    "\n",
    "# Apply the matching function to each job in LinkedIn data to find the corresponding salary job title\n",
    "df['matched_job_title'] = df['job'].apply(lambda x: match_titles(x, salary_titles))\n",
    "\n",
    "# Merge the datasets based on the matched job title\n",
    "merged_data = df.merge(salaries, left_on='matched_job_title', right_on='job_title', how='left')\n"
   ]
  },
  {
   "cell_type": "code",
   "execution_count": null,
   "id": "df38913e",
   "metadata": {},
   "outputs": [],
   "source": []
  },
  {
   "cell_type": "code",
   "execution_count": 33,
   "id": "62b5e445",
   "metadata": {},
   "outputs": [
    {
     "data": {
      "image/png": "[encoded data removed]",
      "text/plain": [
       "<Figure size 720x576 with 1 Axes>"
      ]
     },
     "metadata": {
      "needs_background": "light"
     },
     "output_type": "display_data"
    }
   ],
   "source": [
    "average_salary = merged_data.groupby(['employee_bucket', 'work_type'])['salary'].mean().reset_index()\n",
    "average_salary['sort_key'] = average_salary.groupby('employee_bucket')['salary'].transform(max)\n",
    "average_salary_sorted = average_salary.sort_values(by=['sort_key', 'salary'], \n",
    "                                                   ascending=[True, False]).drop('sort_key', axis=1)\n",
    "\n",
    "\n",
    "plt.figure(figsize=(10, 8))\n",
    "sns.barplot(x='employee_bucket', y='salary', hue = 'work_type', palette = 'coolwarm', data=average_salary_sorted)\n",
    "plt.title('Average Salary by Company Size and Work Type')\n",
    "plt.xlabel('Company Size')\n",
    "plt.ylabel('Average Salary')\n",
    "plt.legend(title='Work Type')\n",
    "plt.show()"
   ]
  },
  {
   "cell_type": "code",
   "execution_count": null,
   "id": "1470d5f2",
   "metadata": {},
   "outputs": [],
   "source": []
  },
  {
   "cell_type": "code",
   "execution_count": 34,
   "id": "5af55adb",
   "metadata": {},
   "outputs": [
    {
     "data": {
      "image/png": "[encoded data removed]",
      "text/plain": [
       "<Figure size 720x576 with 1 Axes>"
      ]
     },
     "metadata": {
      "needs_background": "light"
     },
     "output_type": "display_data"
    }
   ],
   "source": [
    "average_salary = merged_data.groupby('work_type')['salary'].mean().reset_index()\n",
    "plt.figure(figsize=(10, 8))\n",
    "sns.barplot(x='work_type', y='salary', palette = 'coolwarm', data=average_salary)\n",
    "plt.title('Average Salary by Work Type')\n",
    "plt.xlabel('Work Type')\n",
    "plt.ylabel('Average Salary in $')\n",
    "plt.show()"
   ]
  },
  {
   "cell_type": "code",
   "execution_count": null,
   "id": "732aa53d",
   "metadata": {},
   "outputs": [],
   "source": []
  },
  {
   "cell_type": "code",
   "execution_count": null,
   "id": "6d924b66",
   "metadata": {},
   "outputs": [],
   "source": []
  },
  {
   "cell_type": "code",
   "execution_count": null,
   "id": "d613ddbd",
   "metadata": {},
   "outputs": [],
   "source": []
  }
 ],
 "metadata": {
  "kernelspec": {
   "display_name": "Python 3 (ipykernel)",
   "language": "python",
   "name": "python3"
  },
  "language_info": {
   "codemirror_mode": {
    "name": "ipython",
    "version": 3
   },
   "file_extension": ".py",
   "mimetype": "text/x-python",
   "name": "python",
   "nbconvert_exporter": "python",
   "pygments_lexer": "ipython3",
   "version": "3.9.12"
  }
 },
 "nbformat": 4,
 "nbformat_minor": 5
}
