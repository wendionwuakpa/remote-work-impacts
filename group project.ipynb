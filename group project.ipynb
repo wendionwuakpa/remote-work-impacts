{
 "cells": [
  {
   "cell_type": "code",
   "execution_count": 1,
   "id": "a5379ebb",
   "metadata": {},
   "outputs": [],
   "source": [
    "import pandas as pd"
   ]
  },
  {
   "cell_type": "code",
   "execution_count": 2,
   "id": "b0ce49ef",
   "metadata": {},
   "outputs": [],
   "source": [
    "df = pd.read_excel('The Impacts of Working Remotely and in an Office Survey.xlsx')"
   ]
  },
  {
   "cell_type": "code",
   "execution_count": 19,
   "id": "8152c7b9",
   "metadata": {},
   "outputs": [],
   "source": [
    "# Function to calculate percentages for each question\n",
    "def calculate_percentages(dataframe, question_col):\n",
    "    counts = dataframe[question_col].value_counts()\n",
    "    percentages = (counts / counts.sum()) * 100\n",
    "    return percentages.round(2)"
   ]
  },
  {
   "cell_type": "code",
   "execution_count": 20,
   "id": "447971a3",
   "metadata": {},
   "outputs": [],
   "source": [
    "# List of questions (excluding 'Response ID')\n",
    "questions = [\n",
    "    'ever experienced?',\n",
    "    'increases productivity?',\n",
    "    'prevents you from going out?',\n",
    "    'gives you more flexibility?',\n",
    "    'saves you more time?',\n",
    "    'Which work type has the potential to cause you physical problems, such as the neck, back, and leg pain?',\n",
    "    'Which work type has the potential to cause mental disorders, such as stress, anxiety, and depression?',\n",
    "    'prevents you from getting in contact with people?',\n",
    "    'Which work type keeps you focused while working?',\n",
    "    'Which work type do you prefer the most?'\n",
    "]"
   ]
  },
  {
   "cell_type": "code",
   "execution_count": 21,
   "id": "ee4198e9",
   "metadata": {},
   "outputs": [],
   "source": [
    "# Dictionary to hold the percentage results for all questions\n",
    "all_percentages = {question: calculate_percentages(df, question) for question in questions}"
   ]
  },
  {
   "cell_type": "code",
   "execution_count": 22,
   "id": "594df4f4",
   "metadata": {},
   "outputs": [
    {
     "name": "stdout",
     "output_type": "stream",
     "text": [
      "Percentages for 'ever experienced?':\n",
      "yes    60.0\n",
      "no     40.0\n",
      "Name: ever experienced?, dtype: float64\n",
      "\n",
      "Percentages for 'increases productivity?':\n",
      "yes    70.0\n",
      "no     30.0\n",
      "Name: increases productivity?, dtype: float64\n",
      "\n",
      "Percentages for 'prevents you from going out?':\n",
      "yes    70.0\n",
      "no     30.0\n",
      "Name: prevents you from going out?, dtype: float64\n",
      "\n",
      "Percentages for 'gives you more flexibility?':\n",
      "yes    100.0\n",
      "Name: gives you more flexibility?, dtype: float64\n",
      "\n",
      "Percentages for 'saves you more time?':\n",
      "no     60.0\n",
      "yes    40.0\n",
      "Name: saves you more time?, dtype: float64\n",
      "\n",
      "Percentages for 'Which work type has the potential to cause you physical problems, such as the neck, back, and leg pain?':\n",
      "working from home       80.0\n",
      "working in an office    20.0\n",
      "Name: Which work type has the potential to cause you physical problems, such as the neck, back, and leg pain?, dtype: float64\n",
      "\n",
      "Percentages for 'Which work type has the potential to cause mental disorders, such as stress, anxiety, and depression?':\n",
      "working from home       70.0\n",
      "working in an office    30.0\n",
      "Name: Which work type has the potential to cause mental disorders, such as stress, anxiety, and depression?, dtype: float64\n",
      "\n",
      "Percentages for 'prevents you from getting in contact with people?':\n",
      "yes    70.0\n",
      "no     30.0\n",
      "Name: prevents you from getting in contact with people?, dtype: float64\n",
      "\n",
      "Percentages for 'Which work type keeps you focused while working?':\n",
      "working in an office    60.0\n",
      "working from home       40.0\n",
      "Name: Which work type keeps you focused while working?, dtype: float64\n",
      "\n",
      "Percentages for 'Which work type do you prefer the most?':\n",
      "a mixed mode of working    50.0\n",
      "working in an office       30.0\n",
      "working from home          20.0\n",
      "Name: Which work type do you prefer the most?, dtype: float64\n",
      "\n"
     ]
    }
   ],
   "source": [
    "for question, percentages in all_percentages.items():\n",
    "    print(f\"Percentages for '{question}':\")\n",
    "    print(percentages)\n",
    "    print()"
   ]
  },
  {
   "cell_type": "code",
   "execution_count": 23,
   "id": "4bd356df",
   "metadata": {},
   "outputs": [],
   "source": [
    "percentages_df = pd.DataFrame.from_dict(all_percentages, orient='index')\n",
    "percentages_df.to_excel('Question_Percentages.xlsx')"
   ]
  },
  {
   "cell_type": "code",
   "execution_count": null,
   "id": "88a3ff61",
   "metadata": {},
   "outputs": [],
   "source": []
  },
  {
   "cell_type": "code",
   "execution_count": null,
   "id": "86c90e8f",
   "metadata": {},
   "outputs": [],
   "source": []
  },
  {
   "cell_type": "code",
   "execution_count": null,
   "id": "f7b8fb10",
   "metadata": {},
   "outputs": [],
   "source": []
  }
 ],
 "metadata": {
  "kernelspec": {
   "display_name": "Python 3 (ipykernel)",
   "language": "python",
   "name": "python3"
  },
  "language_info": {
   "codemirror_mode": {
    "name": "ipython",
    "version": 3
   },
   "file_extension": ".py",
   "mimetype": "text/x-python",
   "name": "python",
   "nbconvert_exporter": "python",
   "pygments_lexer": "ipython3",
   "version": "3.9.13"
  }
 },
 "nbformat": 4,
 "nbformat_minor": 5
}
